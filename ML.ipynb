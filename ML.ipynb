{
 "cells": [
  {
   "cell_type": "code",
   "execution_count": 5,
   "id": "66a6aa7d",
   "metadata": {},
   "outputs": [],
   "source": [
    "import pandas as pd\n",
    "pd.set_option('display.max_columns', None)\n",
    "import seaborn as sns\n",
    "import matplotlib.pyplot as plt\n",
    "import numpy as np\n",
    "from sklearn.preprocessing import OneHotEncoder\n"
   ]
  },
  {
   "cell_type": "code",
   "execution_count": 6,
   "id": "2324a4a9",
   "metadata": {},
   "outputs": [],
   "source": [
    "data=pd.read_csv(\"Book1.csv\")"
   ]
  },
  {
   "cell_type": "code",
   "execution_count": 7,
   "id": "43d6003c",
   "metadata": {},
   "outputs": [],
   "source": [
    "data.drop(columns=[\"product\"],inplace=True)"
   ]
  },
  {
   "cell_type": "code",
   "execution_count": 8,
   "id": "5ecedeee",
   "metadata": {},
   "outputs": [
    {
     "data": {
      "text/html": [
       "<div>\n",
       "<style scoped>\n",
       "    .dataframe tbody tr th:only-of-type {\n",
       "        vertical-align: middle;\n",
       "    }\n",
       "\n",
       "    .dataframe tbody tr th {\n",
       "        vertical-align: top;\n",
       "    }\n",
       "\n",
       "    .dataframe thead th {\n",
       "        text-align: right;\n",
       "    }\n",
       "</style>\n",
       "<table border=\"1\" class=\"dataframe\">\n",
       "  <thead>\n",
       "    <tr style=\"text-align: right;\">\n",
       "      <th></th>\n",
       "      <th>type</th>\n",
       "      <th>second_type</th>\n",
       "      <th>kernel perecentage</th>\n",
       "      <th>size</th>\n",
       "      <th>close shell precent</th>\n",
       "      <th>price</th>\n",
       "    </tr>\n",
       "  </thead>\n",
       "  <tbody>\n",
       "    <tr>\n",
       "      <th>0</th>\n",
       "      <td>AA</td>\n",
       "      <td>Open_shell</td>\n",
       "      <td>55.9</td>\n",
       "      <td>30.8</td>\n",
       "      <td>13.0</td>\n",
       "      <td>7.83</td>\n",
       "    </tr>\n",
       "    <tr>\n",
       "      <th>1</th>\n",
       "      <td>AA</td>\n",
       "      <td>Close_shell</td>\n",
       "      <td>46.1</td>\n",
       "      <td>33.4</td>\n",
       "      <td>100.0</td>\n",
       "      <td>6.84</td>\n",
       "    </tr>\n",
       "    <tr>\n",
       "      <th>2</th>\n",
       "      <td>FA</td>\n",
       "      <td>Open_shell</td>\n",
       "      <td>54.6</td>\n",
       "      <td>34.2</td>\n",
       "      <td>31.9</td>\n",
       "      <td>7.28</td>\n",
       "    </tr>\n",
       "    <tr>\n",
       "      <th>3</th>\n",
       "      <td>FA</td>\n",
       "      <td>Open_shell</td>\n",
       "      <td>50.6</td>\n",
       "      <td>34.4</td>\n",
       "      <td>26.9</td>\n",
       "      <td>7.54</td>\n",
       "    </tr>\n",
       "    <tr>\n",
       "      <th>4</th>\n",
       "      <td>FA</td>\n",
       "      <td>Other</td>\n",
       "      <td>30.5</td>\n",
       "      <td>38.1</td>\n",
       "      <td>66.7</td>\n",
       "      <td>3.16</td>\n",
       "    </tr>\n",
       "  </tbody>\n",
       "</table>\n",
       "</div>"
      ],
      "text/plain": [
       "  type  second_type  kernel perecentage  size  close shell precent  price\n",
       "0   AA   Open_shell                55.9  30.8                 13.0   7.83\n",
       "1   AA  Close_shell                46.1  33.4                100.0   6.84\n",
       "2   FA   Open_shell                54.6  34.2                 31.9   7.28\n",
       "3   FA   Open_shell                50.6  34.4                 26.9   7.54\n",
       "4   FA        Other                30.5  38.1                 66.7   3.16"
      ]
     },
     "execution_count": 8,
     "metadata": {},
     "output_type": "execute_result"
    }
   ],
   "source": [
    "data.head()"
   ]
  },
  {
   "cell_type": "code",
   "execution_count": 9,
   "id": "b3547b27",
   "metadata": {},
   "outputs": [
    {
     "data": {
      "text/plain": [
       "type                   0\n",
       "second_type            0\n",
       "kernel perecentage     0\n",
       "size                   0\n",
       "close shell precent    0\n",
       "price                  0\n",
       "dtype: int64"
      ]
     },
     "execution_count": 9,
     "metadata": {},
     "output_type": "execute_result"
    }
   ],
   "source": [
    "data.isnull().sum()"
   ]
  },
  {
   "cell_type": "code",
   "execution_count": 10,
   "id": "a366a026",
   "metadata": {},
   "outputs": [
    {
     "data": {
      "text/html": [
       "<div>\n",
       "<style scoped>\n",
       "    .dataframe tbody tr th:only-of-type {\n",
       "        vertical-align: middle;\n",
       "    }\n",
       "\n",
       "    .dataframe tbody tr th {\n",
       "        vertical-align: top;\n",
       "    }\n",
       "\n",
       "    .dataframe thead th {\n",
       "        text-align: right;\n",
       "    }\n",
       "</style>\n",
       "<table border=\"1\" class=\"dataframe\">\n",
       "  <thead>\n",
       "    <tr style=\"text-align: right;\">\n",
       "      <th></th>\n",
       "      <th>kernel perecentage</th>\n",
       "      <th>size</th>\n",
       "      <th>close shell precent</th>\n",
       "      <th>price</th>\n",
       "    </tr>\n",
       "  </thead>\n",
       "  <tbody>\n",
       "    <tr>\n",
       "      <th>count</th>\n",
       "      <td>63.000000</td>\n",
       "      <td>63.000000</td>\n",
       "      <td>63.000000</td>\n",
       "      <td>63.000000</td>\n",
       "    </tr>\n",
       "    <tr>\n",
       "      <th>mean</th>\n",
       "      <td>45.680476</td>\n",
       "      <td>32.177143</td>\n",
       "      <td>75.823810</td>\n",
       "      <td>6.583492</td>\n",
       "    </tr>\n",
       "    <tr>\n",
       "      <th>std</th>\n",
       "      <td>6.220856</td>\n",
       "      <td>3.186027</td>\n",
       "      <td>38.795667</td>\n",
       "      <td>1.207334</td>\n",
       "    </tr>\n",
       "    <tr>\n",
       "      <th>min</th>\n",
       "      <td>21.300000</td>\n",
       "      <td>24.800000</td>\n",
       "      <td>0.000000</td>\n",
       "      <td>1.850000</td>\n",
       "    </tr>\n",
       "    <tr>\n",
       "      <th>25%</th>\n",
       "      <td>44.640000</td>\n",
       "      <td>29.850000</td>\n",
       "      <td>59.150000</td>\n",
       "      <td>6.040000</td>\n",
       "    </tr>\n",
       "    <tr>\n",
       "      <th>50%</th>\n",
       "      <td>46.350000</td>\n",
       "      <td>32.200000</td>\n",
       "      <td>100.000000</td>\n",
       "      <td>6.800000</td>\n",
       "    </tr>\n",
       "    <tr>\n",
       "      <th>75%</th>\n",
       "      <td>48.225000</td>\n",
       "      <td>34.100000</td>\n",
       "      <td>100.000000</td>\n",
       "      <td>7.235000</td>\n",
       "    </tr>\n",
       "    <tr>\n",
       "      <th>max</th>\n",
       "      <td>55.900000</td>\n",
       "      <td>40.500000</td>\n",
       "      <td>100.000000</td>\n",
       "      <td>9.080000</td>\n",
       "    </tr>\n",
       "  </tbody>\n",
       "</table>\n",
       "</div>"
      ],
      "text/plain": [
       "       kernel perecentage       size  close shell precent      price\n",
       "count           63.000000  63.000000            63.000000  63.000000\n",
       "mean            45.680476  32.177143            75.823810   6.583492\n",
       "std              6.220856   3.186027            38.795667   1.207334\n",
       "min             21.300000  24.800000             0.000000   1.850000\n",
       "25%             44.640000  29.850000            59.150000   6.040000\n",
       "50%             46.350000  32.200000           100.000000   6.800000\n",
       "75%             48.225000  34.100000           100.000000   7.235000\n",
       "max             55.900000  40.500000           100.000000   9.080000"
      ]
     },
     "execution_count": 10,
     "metadata": {},
     "output_type": "execute_result"
    }
   ],
   "source": [
    "data.describe()"
   ]
  },
  {
   "cell_type": "code",
   "execution_count": 11,
   "id": "801667bb",
   "metadata": {},
   "outputs": [
    {
     "name": "stdout",
     "output_type": "stream",
     "text": [
      "<class 'pandas.core.frame.DataFrame'>\n",
      "RangeIndex: 63 entries, 0 to 62\n",
      "Data columns (total 6 columns):\n",
      " #   Column               Non-Null Count  Dtype  \n",
      "---  ------               --------------  -----  \n",
      " 0   type                 63 non-null     object \n",
      " 1   second_type          63 non-null     object \n",
      " 2   kernel perecentage   63 non-null     float64\n",
      " 3   size                 63 non-null     float64\n",
      " 4   close shell precent  63 non-null     float64\n",
      " 5   price                63 non-null     float64\n",
      "dtypes: float64(4), object(2)\n",
      "memory usage: 3.1+ KB\n"
     ]
    }
   ],
   "source": [
    "data.info()"
   ]
  },
  {
   "cell_type": "code",
   "execution_count": 12,
   "id": "8151cbb5",
   "metadata": {},
   "outputs": [],
   "source": [
    "# First: convert 'price' to numeric safely\n",
    "data['price'] = pd.to_numeric(data['price'], errors='coerce')  # coerce invalid values to NaN\n",
    "\n",
    "# Then: create dummy variables for the categorical features\n",
    "data_dummies = pd.get_dummies(data, columns=['type', 'second_type'], prefix=['type', 'second_type'],drop_first=True)\n"
   ]
  },
  {
   "cell_type": "code",
   "execution_count": 13,
   "id": "a091fc60",
   "metadata": {},
   "outputs": [
    {
     "data": {
      "text/html": [
       "<div>\n",
       "<style scoped>\n",
       "    .dataframe tbody tr th:only-of-type {\n",
       "        vertical-align: middle;\n",
       "    }\n",
       "\n",
       "    .dataframe tbody tr th {\n",
       "        vertical-align: top;\n",
       "    }\n",
       "\n",
       "    .dataframe thead th {\n",
       "        text-align: right;\n",
       "    }\n",
       "</style>\n",
       "<table border=\"1\" class=\"dataframe\">\n",
       "  <thead>\n",
       "    <tr style=\"text-align: right;\">\n",
       "      <th></th>\n",
       "      <th>kernel perecentage</th>\n",
       "      <th>size</th>\n",
       "      <th>close shell precent</th>\n",
       "      <th>price</th>\n",
       "      <th>type_FA</th>\n",
       "      <th>second_type_Open_shell</th>\n",
       "      <th>second_type_Other</th>\n",
       "    </tr>\n",
       "  </thead>\n",
       "  <tbody>\n",
       "    <tr>\n",
       "      <th>0</th>\n",
       "      <td>55.9</td>\n",
       "      <td>30.8</td>\n",
       "      <td>13.0</td>\n",
       "      <td>7.83</td>\n",
       "      <td>0</td>\n",
       "      <td>1</td>\n",
       "      <td>0</td>\n",
       "    </tr>\n",
       "    <tr>\n",
       "      <th>1</th>\n",
       "      <td>46.1</td>\n",
       "      <td>33.4</td>\n",
       "      <td>100.0</td>\n",
       "      <td>6.84</td>\n",
       "      <td>0</td>\n",
       "      <td>0</td>\n",
       "      <td>0</td>\n",
       "    </tr>\n",
       "    <tr>\n",
       "      <th>2</th>\n",
       "      <td>54.6</td>\n",
       "      <td>34.2</td>\n",
       "      <td>31.9</td>\n",
       "      <td>7.28</td>\n",
       "      <td>1</td>\n",
       "      <td>1</td>\n",
       "      <td>0</td>\n",
       "    </tr>\n",
       "    <tr>\n",
       "      <th>3</th>\n",
       "      <td>50.6</td>\n",
       "      <td>34.4</td>\n",
       "      <td>26.9</td>\n",
       "      <td>7.54</td>\n",
       "      <td>1</td>\n",
       "      <td>1</td>\n",
       "      <td>0</td>\n",
       "    </tr>\n",
       "    <tr>\n",
       "      <th>4</th>\n",
       "      <td>30.5</td>\n",
       "      <td>38.1</td>\n",
       "      <td>66.7</td>\n",
       "      <td>3.16</td>\n",
       "      <td>1</td>\n",
       "      <td>0</td>\n",
       "      <td>1</td>\n",
       "    </tr>\n",
       "  </tbody>\n",
       "</table>\n",
       "</div>"
      ],
      "text/plain": [
       "   kernel perecentage  size  close shell precent  price  type_FA  \\\n",
       "0                55.9  30.8                 13.0   7.83        0   \n",
       "1                46.1  33.4                100.0   6.84        0   \n",
       "2                54.6  34.2                 31.9   7.28        1   \n",
       "3                50.6  34.4                 26.9   7.54        1   \n",
       "4                30.5  38.1                 66.7   3.16        1   \n",
       "\n",
       "   second_type_Open_shell  second_type_Other  \n",
       "0                       1                  0  \n",
       "1                       0                  0  \n",
       "2                       1                  0  \n",
       "3                       1                  0  \n",
       "4                       0                  1  "
      ]
     },
     "execution_count": 13,
     "metadata": {},
     "output_type": "execute_result"
    }
   ],
   "source": [
    "data_dummies.head()"
   ]
  },
  {
   "cell_type": "code",
   "execution_count": 14,
   "id": "c3f51f35",
   "metadata": {},
   "outputs": [],
   "source": [
    "feature_names = data_dummies.drop(columns=['price']).columns\n",
    "features = data_dummies.drop(columns=['price'])\n",
    "label = data_dummies['price']"
   ]
  },
  {
   "cell_type": "code",
   "execution_count": 15,
   "id": "527dd865",
   "metadata": {},
   "outputs": [],
   "source": [
    "from sklearn.preprocessing import MinMaxScaler\n",
    "scaler=MinMaxScaler()\n",
    "features=scaler.fit_transform(features)"
   ]
  },
  {
   "cell_type": "code",
   "execution_count": 16,
   "id": "7577c474",
   "metadata": {},
   "outputs": [],
   "source": [
    "from sklearn.model_selection import train_test_split\n",
    "train_data, test_data, train_labels, test_labels = train_test_split(features, label, test_size=0.3, random_state=42)\n",
    "train_data = pd.DataFrame(train_data, columns=feature_names)\n",
    "test_data = pd.DataFrame(test_data, columns=feature_names)"
   ]
  },
  {
   "cell_type": "code",
   "execution_count": 17,
   "id": "36ea1033",
   "metadata": {},
   "outputs": [],
   "source": [
    "from sklearn.metrics import r2_score, mean_squared_error, mean_absolute_error, mean_absolute_percentage_error\n",
    "def compare_models(model):\n",
    "    model_name = model.__class__.__name__\n",
    "    fit = model.fit(train_data, train_labels)\n",
    "    y_pred = fit.predict(test_data)\n",
    "    r2 = r2_score(test_labels, y_pred)\n",
    "    rmse = mean_squared_error(test_labels, y_pred, squared=False)  \n",
    "    mae = mean_absolute_error(test_labels, y_pred)\n",
    "    mape = mean_absolute_percentage_error(test_labels, y_pred)\n",
    "    return f\"Model: {model_name}\\nR²: {r2:.4f}\\nRMSE: {rmse:.4f}\\nMAE: {mae:.4f}\\nMAPE: {mape:.4f}\""
   ]
  },
  {
   "cell_type": "code",
   "execution_count": 18,
   "id": "ed7aed59",
   "metadata": {},
   "outputs": [],
   "source": [
    "from sklearn.ensemble import RandomForestRegressor\n",
    "from sklearn.ensemble import GradientBoostingRegressor\n",
    "from sklearn import svm\n",
    "from sklearn.tree import DecisionTreeRegressor\n",
    "from sklearn.linear_model import LinearRegression\n",
    "models = [\n",
    "    GradientBoostingRegressor(n_estimators=200, max_depth=3, random_state=42),\n",
    "    RandomForestRegressor(n_estimators=200, max_depth=3, random_state=42),\n",
    "    LinearRegression(),\n",
    "    svm.SVR(),\n",
    "   DecisionTreeRegressor()\n",
    "]"
   ]
  },
  {
   "cell_type": "code",
   "execution_count": 145,
   "id": "654f939a",
   "metadata": {},
   "outputs": [
    {
     "name": "stdout",
     "output_type": "stream",
     "text": [
      "Model: GradientBoostingRegressor\n",
      "R²: 0.8462\n",
      "RMSE: 0.4681\n",
      "MAE: 0.3878\n",
      "MAPE: 0.0610\n",
      "Model: RandomForestRegressor\n",
      "R²: 0.8368\n",
      "RMSE: 0.4822\n",
      "MAE: 0.3807\n",
      "MAPE: 0.0636\n",
      "Model: LinearRegression\n",
      "R²: 0.7234\n",
      "RMSE: 0.6279\n",
      "MAE: 0.5319\n",
      "MAPE: 0.0840\n",
      "Model: SVR\n",
      "R²: 0.6979\n",
      "RMSE: 0.6562\n",
      "MAE: 0.4727\n",
      "MAPE: 0.0864\n",
      "Model: DecisionTreeRegressor\n",
      "R²: 0.6157\n",
      "RMSE: 0.7402\n",
      "MAE: 0.5395\n",
      "MAPE: 0.0847\n"
     ]
    }
   ],
   "source": [
    "model_train = list(map(compare_models, models))\n",
    "print(*model_train, sep=\"\\n\")"
   ]
  },
  {
   "cell_type": "code",
   "execution_count": 19,
   "id": "379b5cf2",
   "metadata": {},
   "outputs": [],
   "source": [
    "def show_feature_importance(model, feature_names):\n",
    "    if hasattr(model, \"feature_importances_\"):\n",
    "        importance = model.feature_importances_\n",
    "        importance_df = pd.DataFrame({\n",
    "            'Feature': feature_names,\n",
    "            'Importance': importance\n",
    "        }).sort_values(by='Importance', ascending=False)\n",
    "\n",
    "        print(f\"\\n📊 Feature Importance for {model.__class__.__name__}\")\n",
    "        print(importance_df)\n",
    "\n",
    "        # Optional: plot\n",
    "        import matplotlib.pyplot as plt\n",
    "        plt.figure(figsize=(10, 6))\n",
    "        plt.barh(importance_df['Feature'], importance_df['Importance'])\n",
    "        plt.xlabel(\"Importance\")\n",
    "        plt.ylabel(\"Feature\")\n",
    "        plt.title(f\"Feature Importance - {model.__class__.__name__}\")\n",
    "        plt.gca().invert_yaxis()\n",
    "        plt.tight_layout()\n",
    "        plt.show()\n"
   ]
  },
  {
   "cell_type": "code",
   "execution_count": 20,
   "id": "34a2d03e",
   "metadata": {},
   "outputs": [],
   "source": [
    "def show_coefficients(model, feature_names):\n",
    "    if hasattr(model, \"coef_\"):\n",
    "        coefs = model.coef_\n",
    "        coef_df = pd.DataFrame({\n",
    "            'Feature': feature_names,\n",
    "            'Coefficient': coefs if len(coefs.shape) == 1 else coefs[0]\n",
    "        }).sort_values(by='Coefficient', key=abs, ascending=False)\n",
    "\n",
    "        print(f\"\\n📈 Coefficients for {model.__class__.__name__}\")\n",
    "        print(coef_df)\n"
   ]
  },
  {
   "cell_type": "code",
   "execution_count": 21,
   "id": "9530e96a",
   "metadata": {},
   "outputs": [
    {
     "name": "stdout",
     "output_type": "stream",
     "text": [
      "\n",
      "🔍 Model: GradientBoostingRegressor\n",
      "\n",
      "📊 Feature Importance for GradientBoostingRegressor\n",
      "                  Feature  Importance\n",
      "0      kernel perecentage    0.682482\n",
      "2     close shell precent    0.203980\n",
      "1                    size    0.055491\n",
      "4  second_type_Open_shell    0.041973\n",
      "3                 type_FA    0.016067\n",
      "5       second_type_Other    0.000008\n"
     ]
    },
    {
     "data": {
      "image/png": "[encoded data removed]",
      "text/plain": [
       "<Figure size 1000x600 with 1 Axes>"
      ]
     },
     "metadata": {},
     "output_type": "display_data"
    },
    {
     "name": "stdout",
     "output_type": "stream",
     "text": [
      "\n",
      "🔍 Model: RandomForestRegressor\n",
      "\n",
      "📊 Feature Importance for RandomForestRegressor\n",
      "                  Feature  Importance\n",
      "0      kernel perecentage    0.492690\n",
      "1                    size    0.223048\n",
      "2     close shell precent    0.186567\n",
      "4  second_type_Open_shell    0.086220\n",
      "5       second_type_Other    0.006103\n",
      "3                 type_FA    0.005372\n"
     ]
    },
    {
     "data": {
      "image/png": "[encoded data removed]",
      "text/plain": [
       "<Figure size 1000x600 with 1 Axes>"
      ]
     },
     "metadata": {},
     "output_type": "display_data"
    },
    {
     "name": "stdout",
     "output_type": "stream",
     "text": [
      "\n",
      "🔍 Model: LinearRegression\n",
      "\n",
      "📈 Coefficients for LinearRegression\n",
      "                  Feature  Coefficient\n",
      "0      kernel perecentage     3.240707\n",
      "4  second_type_Open_shell     1.967728\n",
      "2     close shell precent     1.277329\n",
      "5       second_type_Other    -0.645771\n",
      "1                    size    -0.549989\n",
      "3                 type_FA     0.003440\n",
      "\n",
      "🔍 Model: SVR\n",
      "\n",
      "🔍 Model: DecisionTreeRegressor\n",
      "\n",
      "📊 Feature Importance for DecisionTreeRegressor\n",
      "                  Feature  Importance\n",
      "0      kernel perecentage    0.672962\n",
      "2     close shell precent    0.244606\n",
      "1                    size    0.066577\n",
      "3                 type_FA    0.015855\n",
      "4  second_type_Open_shell    0.000000\n",
      "5       second_type_Other    0.000000\n"
     ]
    },
    {
     "data": {
      "image/png": "[encoded data removed]",
      "text/plain": [
       "<Figure size 1000x600 with 1 Axes>"
      ]
     },
     "metadata": {},
     "output_type": "display_data"
    }
   ],
   "source": [
    "feature_names = train_data.columns\n",
    "for model in models:\n",
    "    print(f\"\\n🔍 Model: {model.__class__.__name__}\")\n",
    "    fit = model.fit(train_data, train_labels)\n",
    "    show_feature_importance(fit, train_data.columns)\n",
    "    show_coefficients(fit, train_data.columns)"
   ]
  },
  {
   "cell_type": "code",
   "execution_count": 22,
   "id": "ae610960",
   "metadata": {},
   "outputs": [
    {
     "name": "stdout",
     "output_type": "stream",
     "text": [
      "Model: GradientBoostingRegressor, R²: 0.8462\n",
      "Model: RandomForestRegressor, R²: 0.8368\n",
      "Model: LinearRegression, R²: 0.7234\n",
      "Model: SVR, R²: 0.6979\n",
      "Model: DecisionTreeRegressor, R²: 0.6553\n",
      "\n",
      "✅ Best model: GradientBoostingRegressor with R² = 0.8462\n"
     ]
    }
   ],
   "source": [
    "# Track best model by R² score\n",
    "best_model = None\n",
    "best_score = -np.inf  # start with lowest possible R²\n",
    "best_model_name = \"\"\n",
    "\n",
    "for model in models:\n",
    "    model_name = model.__class__.__name__\n",
    "    fit = model.fit(train_data, train_labels)\n",
    "    y_pred = fit.predict(test_data)\n",
    "    r2 = r2_score(test_labels, y_pred)\n",
    "\n",
    "    print(f\"Model: {model_name}, R²: {r2:.4f}\")\n",
    "\n",
    "    if r2 > best_score:\n",
    "        best_score = r2\n",
    "        best_model = fit  # trained model\n",
    "        best_model_name = model_name\n",
    "\n",
    "print(f\"\\n✅ Best model: {best_model_name} with R² = {best_score:.4f}\")\n"
   ]
  },
  {
   "cell_type": "code",
   "execution_count": null,
   "id": "aa853a02",
   "metadata": {},
   "outputs": [],
   "source": []
  },
  {
   "cell_type": "code",
   "execution_count": 23,
   "id": "b5795149",
   "metadata": {},
   "outputs": [],
   "source": [
    "new_data = pd.DataFrame([{\n",
    "    \"kernel perecentage\": 48.0,\n",
    "    \"size\": 22.1,\n",
    "    \"close shell precent\": 93.0,\n",
    "    \"type\": \"Fandoghi\",\n",
    "    \"second_type\": \"Closed Shell\"\n",
    "}])\n"
   ]
  },
  {
   "cell_type": "code",
   "execution_count": 24,
   "id": "30010e2c",
   "metadata": {},
   "outputs": [
    {
     "name": "stdout",
     "output_type": "stream",
     "text": [
      "💰 Forecasted Price: 6.86 $\n"
     ]
    },
    {
     "name": "stderr",
     "output_type": "stream",
     "text": [
      "C:\\Users\\Siaconda\\anaconda3\\lib\\site-packages\\sklearn\\base.py:450: UserWarning: X does not have valid feature names, but GradientBoostingRegressor was fitted with feature names\n",
      "  warnings.warn(\n"
     ]
    }
   ],
   "source": [
    "# Encode\n",
    "new_data_dummies = pd.get_dummies(new_data, columns=['type', 'second_type'], prefix=['type', 'second_type'])\n",
    "\n",
    "# Add missing dummy columns\n",
    "for col in feature_names:\n",
    "    if col not in new_data_dummies:\n",
    "        new_data_dummies[col] = 0\n",
    "new_data_dummies = new_data_dummies[feature_names]\n",
    "\n",
    "# Scale\n",
    "new_data_scaled = scaler.transform(new_data_dummies)\n",
    "\n",
    "# Predict\n",
    "forecast_price = best_model.predict(new_data_scaled)\n",
    "print(\"💰 Forecasted Price: {:.2f}\".format(forecast_price[0]),\"$\")\n",
    "\n",
    "\n"
   ]
  },
  {
   "cell_type": "code",
   "execution_count": null,
   "id": "f0d5f2c1",
   "metadata": {},
   "outputs": [],
   "source": []
  }
 ],
 "metadata": {
  "kernelspec": {
   "display_name": "Python 3 (ipykernel)",
   "language": "python",
   "name": "python3"
  },
  "language_info": {
   "codemirror_mode": {
    "name": "ipython",
    "version": 3
   },
   "file_extension": ".py",
   "mimetype": "text/x-python",
   "name": "python",
   "nbconvert_exporter": "python",
   "pygments_lexer": "ipython3",
   "version": "3.9.13"
  }
 },
 "nbformat": 4,
 "nbformat_minor": 5
}
